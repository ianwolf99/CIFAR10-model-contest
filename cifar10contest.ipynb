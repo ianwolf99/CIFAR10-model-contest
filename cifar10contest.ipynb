{
  "nbformat": 4,
  "nbformat_minor": 0,
  "metadata": {
    "colab": {
      "provenance": [],
      "gpuType": "T4"
    },
    "kernelspec": {
      "name": "python3",
      "display_name": "Python 3"
    },
    "language_info": {
      "name": "python"
    },
    "accelerator": "GPU"
  },
  "cells": [
    {
      "cell_type": "code",
      "execution_count": 3,
      "metadata": {
        "id": "jrpCLehAlTbv"
      },
      "outputs": [],
      "source": [
        "import torch\n",
        "import torch.nn as nn\n",
        "\n",
        "class CIFAR10LightModel(nn.Module):\n",
        "    def __init__(self, num_classes=10):\n",
        "        super(CIFAR10LightModel, self).__init__()\n",
        "        def dw_sep_conv(in_ch, out_ch, stride=1):\n",
        "            return nn.Sequential(\n",
        "                nn.Conv2d(in_ch, in_ch, 3, stride, 1, groups=in_ch, bias=False),\n",
        "                nn.BatchNorm2d(in_ch),\n",
        "                nn.GELU(),\n",
        "                nn.Conv2d(in_ch, out_ch, 1, bias=False),\n",
        "                nn.BatchNorm2d(out_ch),\n",
        "                nn.GELU(),\n",
        "            )\n",
        "\n",
        "        def inverted_residual(in_ch, out_ch, expansion, stride):\n",
        "            mid_ch = in_ch * expansion\n",
        "            return nn.Sequential(\n",
        "                nn.Conv2d(in_ch, mid_ch, 1, bias=False),\n",
        "                nn.BatchNorm2d(mid_ch),\n",
        "                nn.GELU(),\n",
        "                dw_sep_conv(mid_ch, out_ch, stride),\n",
        "            ) if stride > 1 or in_ch != out_ch else nn.Sequential(\n",
        "                nn.Conv2d(in_ch, mid_ch, 1, bias=False),\n",
        "                nn.BatchNorm2d(mid_ch),\n",
        "                nn.GELU(),\n",
        "                dw_sep_conv(mid_ch, out_ch, stride),\n",
        "            )\n",
        "\n",
        "        self.stem = nn.Sequential(\n",
        "            nn.Conv2d(3, 32, 3, stride=1, padding=1, bias=False),\n",
        "            nn.BatchNorm2d(32),\n",
        "            nn.GELU(),\n",
        "        )\n",
        "\n",
        "        self.features = nn.Sequential(\n",
        "            dw_sep_conv(32, 64, 1),\n",
        "            inverted_residual(64, 128, 4, 2),\n",
        "            inverted_residual(128, 128, 4, 1),\n",
        "            inverted_residual(128, 256, 4, 2),\n",
        "            dw_sep_conv(256, 512, 2),\n",
        "        )\n",
        "\n",
        "        self.pool = nn.AdaptiveAvgPool2d(1)\n",
        "        self.fc = nn.Linear(512, num_classes)\n",
        "\n",
        "    def forward(self, x):\n",
        "        x = self.stem(x)\n",
        "        x = self.features(x)\n",
        "        x = self.pool(x)\n",
        "        x = x.view(x.size(0), -1)\n",
        "        x = self.fc(x)\n",
        "        return x"
      ]
    },
    {
      "cell_type": "code",
      "source": [
        "!sudo apt update\n",
        "!sudo apt install nvidia-driver-470"
      ],
      "metadata": {
        "colab": {
          "base_uri": "https://localhost:8080/"
        },
        "id": "nq8QYzqYnk7Z",
        "outputId": "e73a7174-eff5-4f10-8b0a-5316905caa7e"
      },
      "execution_count": 1,
      "outputs": [
        {
          "output_type": "stream",
          "name": "stdout",
          "text": [
            "\u001b[33m\r0% [Working]\u001b[0m\r            \rGet:1 https://cloud.r-project.org/bin/linux/ubuntu jammy-cran40/ InRelease [3,626 B]\n",
            "Hit:2 https://developer.download.nvidia.com/compute/cuda/repos/ubuntu2204/x86_64  InRelease\n",
            "Get:3 http://security.ubuntu.com/ubuntu jammy-security InRelease [129 kB]\n",
            "Hit:4 http://archive.ubuntu.com/ubuntu jammy InRelease\n",
            "Hit:5 https://ppa.launchpadcontent.net/deadsnakes/ppa/ubuntu jammy InRelease\n",
            "Hit:6 https://ppa.launchpadcontent.net/graphics-drivers/ppa/ubuntu jammy InRelease\n",
            "Get:7 http://archive.ubuntu.com/ubuntu jammy-updates InRelease [128 kB]\n",
            "Get:8 https://r2u.stat.illinois.edu/ubuntu jammy InRelease [6,555 B]\n",
            "Hit:9 https://ppa.launchpadcontent.net/ubuntugis/ppa/ubuntu jammy InRelease\n",
            "Get:10 http://security.ubuntu.com/ubuntu jammy-security/universe amd64 Packages [1,224 kB]\n",
            "Get:11 https://r2u.stat.illinois.edu/ubuntu jammy/main amd64 Packages [2,619 kB]\n",
            "Get:12 http://archive.ubuntu.com/ubuntu jammy-backports InRelease [127 kB]\n",
            "Get:13 http://security.ubuntu.com/ubuntu jammy-security/main amd64 Packages [2,454 kB]\n",
            "Get:14 http://archive.ubuntu.com/ubuntu jammy-updates/main amd64 Packages [2,738 kB]\n",
            "Get:15 https://r2u.stat.illinois.edu/ubuntu jammy/main all Packages [8,506 kB]\n",
            "Get:16 http://archive.ubuntu.com/ubuntu jammy-updates/universe amd64 Packages [1,513 kB]\n",
            "Get:17 http://archive.ubuntu.com/ubuntu jammy-backports/universe amd64 Packages [33.8 kB]\n",
            "Fetched 19.5 MB in 4s (4,519 kB/s)\n",
            "Reading package lists... Done\n",
            "Building dependency tree... Done\n",
            "Reading state information... Done\n",
            "49 packages can be upgraded. Run 'apt list --upgradable' to see them.\n",
            "\u001b[1;33mW: \u001b[0mSkipping acquire of configured file 'main/source/Sources' as repository 'https://r2u.stat.illinois.edu/ubuntu jammy InRelease' does not seem to provide it (sources.list entry misspelt?)\u001b[0m\n",
            "Reading package lists... Done\n",
            "Building dependency tree... Done\n",
            "Reading state information... Done\n",
            "The following additional packages will be installed:\n",
            "  cpp-12 dctrl-tools dkms fakeroot gcc-12 keyboard-configuration libasan8\n",
            "  libfakeroot libfontenc1 libgail-common libgail18 libgcc-12-dev libgtk2.0-0\n",
            "  libgtk2.0-bin libgtk2.0-common libjansson4 liblocale-gettext-perl\n",
            "  libnvidia-cfg1-470 libnvidia-common-470 libnvidia-compute-470\n",
            "  libnvidia-decode-470 libnvidia-egl-wayland1 libnvidia-encode-470\n",
            "  libnvidia-extra-470 libnvidia-fbc1-470 libnvidia-gl-470 libnvidia-ifr1-470\n",
            "  librsvg2-common libtsan2 libudev1 libxcvt0 libxfont2 libxkbfile1\n",
            "  nvidia-compute-utils-470 nvidia-dkms-470 nvidia-kernel-common-470\n",
            "  nvidia-kernel-source-470 nvidia-prime nvidia-settings nvidia-utils-470\n",
            "  python3-xkit screen-resolution-extra systemd-hwe-hwdb udev x11-xkb-utils\n",
            "  xcvt xfonts-base xfonts-encodings xfonts-utils xserver-common\n",
            "  xserver-xorg-core xserver-xorg-video-nvidia-470\n",
            "Suggested packages:\n",
            "  gcc-12-locales cpp-12-doc debtags menu gcc-12-multilib gcc-12-doc gvfs xfs\n",
            "  | xserver xfonts-100dpi | xfonts-75dpi xfonts-scalable\n",
            "Recommended packages:\n",
            "  libnvidia-compute-470:i386 libnvidia-decode-470:i386\n",
            "  libnvidia-encode-470:i386 libnvidia-ifr1-470:i386 libnvidia-fbc1-470:i386\n",
            "  libnvidia-gl-470:i386\n",
            "The following NEW packages will be installed:\n",
            "  cpp-12 dctrl-tools dkms fakeroot gcc-12 keyboard-configuration libasan8\n",
            "  libfakeroot libfontenc1 libgail-common libgail18 libgcc-12-dev libgtk2.0-0\n",
            "  libgtk2.0-bin libgtk2.0-common libjansson4 liblocale-gettext-perl\n",
            "  libnvidia-cfg1-470 libnvidia-common-470 libnvidia-compute-470\n",
            "  libnvidia-decode-470 libnvidia-egl-wayland1 libnvidia-encode-470\n",
            "  libnvidia-extra-470 libnvidia-fbc1-470 libnvidia-gl-470 libnvidia-ifr1-470\n",
            "  librsvg2-common libtsan2 libxcvt0 libxfont2 libxkbfile1\n",
            "  nvidia-compute-utils-470 nvidia-dkms-470 nvidia-driver-470\n",
            "  nvidia-kernel-common-470 nvidia-kernel-source-470 nvidia-prime\n",
            "  nvidia-settings nvidia-utils-470 python3-xkit screen-resolution-extra\n",
            "  systemd-hwe-hwdb udev x11-xkb-utils xcvt xfonts-base xfonts-encodings\n",
            "  xfonts-utils xserver-common xserver-xorg-core xserver-xorg-video-nvidia-470\n",
            "The following packages will be upgraded:\n",
            "  libudev1\n",
            "1 upgraded, 52 newly installed, 0 to remove and 48 not upgraded.\n",
            "Need to get 288 MB of archives.\n",
            "After this operation, 767 MB of additional disk space will be used.\n",
            "Get:1 https://developer.download.nvidia.com/compute/cuda/repos/ubuntu2204/x86_64  nvidia-settings 565.57.01-0ubuntu1 [959 kB]\n",
            "Get:2 http://archive.ubuntu.com/ubuntu jammy/main amd64 liblocale-gettext-perl amd64 1.07-4build3 [17.1 kB]\n",
            "Get:3 http://archive.ubuntu.com/ubuntu jammy/main amd64 keyboard-configuration all 1.205ubuntu3 [206 kB]\n",
            "Get:4 https://ppa.launchpadcontent.net/graphics-drivers/ppa/ubuntu jammy/main amd64 libnvidia-egl-wayland1 amd64 1:1.1.15-0ubuntu0~gpu22.04.1 [33.9 kB]\n",
            "Get:5 http://archive.ubuntu.com/ubuntu jammy-updates/main amd64 cpp-12 amd64 12.3.0-1ubuntu1~22.04 [10.8 MB]\n",
            "Get:6 http://archive.ubuntu.com/ubuntu jammy-updates/main amd64 libasan8 amd64 12.3.0-1ubuntu1~22.04 [2,442 kB]\n",
            "Get:7 http://archive.ubuntu.com/ubuntu jammy-updates/main amd64 libtsan2 amd64 12.3.0-1ubuntu1~22.04 [2,477 kB]\n",
            "Get:8 http://archive.ubuntu.com/ubuntu jammy-updates/main amd64 libgcc-12-dev amd64 12.3.0-1ubuntu1~22.04 [2,618 kB]\n",
            "Get:9 http://archive.ubuntu.com/ubuntu jammy-updates/main amd64 gcc-12 amd64 12.3.0-1ubuntu1~22.04 [21.7 MB]\n",
            "Get:10 http://archive.ubuntu.com/ubuntu jammy/main amd64 dctrl-tools amd64 2.24-3build2 [66.9 kB]\n",
            "Get:11 http://archive.ubuntu.com/ubuntu jammy-updates/main amd64 dkms all 2.8.7-2ubuntu2.2 [70.1 kB]\n",
            "Get:12 http://archive.ubuntu.com/ubuntu jammy-updates/main amd64 libudev1 amd64 249.11-0ubuntu3.12 [78.2 kB]\n",
            "Get:13 http://archive.ubuntu.com/ubuntu jammy-updates/main amd64 udev amd64 249.11-0ubuntu3.12 [1,557 kB]\n",
            "Get:14 http://archive.ubuntu.com/ubuntu jammy/main amd64 libjansson4 amd64 2.13.1-1.1build3 [32.4 kB]\n",
            "Get:15 http://archive.ubuntu.com/ubuntu jammy/main amd64 libfakeroot amd64 1.28-1ubuntu1 [31.5 kB]\n",
            "Get:16 http://archive.ubuntu.com/ubuntu jammy/main amd64 fakeroot amd64 1.28-1ubuntu1 [60.4 kB]\n",
            "Get:17 http://archive.ubuntu.com/ubuntu jammy/main amd64 libfontenc1 amd64 1:1.1.4-1build3 [14.7 kB]\n",
            "Get:18 http://archive.ubuntu.com/ubuntu jammy-updates/main amd64 libgtk2.0-common all 2.24.33-2ubuntu2.1 [125 kB]\n",
            "Get:19 http://archive.ubuntu.com/ubuntu jammy-updates/main amd64 libgtk2.0-0 amd64 2.24.33-2ubuntu2.1 [2,038 kB]\n",
            "Get:20 http://archive.ubuntu.com/ubuntu jammy-updates/main amd64 libgail18 amd64 2.24.33-2ubuntu2.1 [15.9 kB]\n",
            "Get:21 http://archive.ubuntu.com/ubuntu jammy-updates/main amd64 libgail-common amd64 2.24.33-2ubuntu2.1 [132 kB]\n",
            "Get:22 http://archive.ubuntu.com/ubuntu jammy-updates/main amd64 libgtk2.0-bin amd64 2.24.33-2ubuntu2.1 [7,936 B]\n",
            "Get:23 http://archive.ubuntu.com/ubuntu jammy-updates/restricted amd64 libnvidia-cfg1-470 amd64 470.256.02-0ubuntu0.22.04.1 [87.5 kB]\n",
            "Get:24 http://archive.ubuntu.com/ubuntu jammy-updates/restricted amd64 libnvidia-common-470 all 470.256.02-0ubuntu0.22.04.1 [9,994 B]\n",
            "Get:25 http://archive.ubuntu.com/ubuntu jammy-updates/restricted amd64 libnvidia-compute-470 amd64 470.256.02-0ubuntu0.22.04.1 [34.7 MB]\n",
            "Get:26 http://archive.ubuntu.com/ubuntu jammy-updates/restricted amd64 libnvidia-decode-470 amd64 470.256.02-0ubuntu0.22.04.1 [1,562 kB]\n",
            "Get:27 http://archive.ubuntu.com/ubuntu jammy-updates/restricted amd64 libnvidia-encode-470 amd64 470.256.02-0ubuntu0.22.04.1 [45.3 kB]\n",
            "Get:28 http://archive.ubuntu.com/ubuntu jammy-updates/restricted amd64 libnvidia-extra-470 amd64 470.256.02-0ubuntu0.22.04.1 [47.1 kB]\n",
            "Get:29 http://archive.ubuntu.com/ubuntu jammy-updates/restricted amd64 libnvidia-fbc1-470 amd64 470.256.02-0ubuntu0.22.04.1 [50.3 kB]\n",
            "Get:30 http://archive.ubuntu.com/ubuntu jammy-updates/restricted amd64 libnvidia-gl-470 amd64 470.256.02-0ubuntu0.22.04.1 [152 MB]\n",
            "Get:31 http://archive.ubuntu.com/ubuntu jammy-updates/restricted amd64 libnvidia-ifr1-470 amd64 470.256.02-0ubuntu0.22.04.1 [74.3 kB]\n",
            "Get:32 http://archive.ubuntu.com/ubuntu jammy-updates/main amd64 librsvg2-common amd64 2.52.5+dfsg-3ubuntu0.2 [17.7 kB]\n",
            "Get:33 http://archive.ubuntu.com/ubuntu jammy/main amd64 libxcvt0 amd64 0.1.1-3 [5,494 B]\n",
            "Get:34 http://archive.ubuntu.com/ubuntu jammy/main amd64 libxfont2 amd64 1:2.0.5-1build1 [94.5 kB]\n",
            "Get:35 http://archive.ubuntu.com/ubuntu jammy/main amd64 libxkbfile1 amd64 1:1.1.0-1build3 [71.8 kB]\n",
            "Get:36 http://archive.ubuntu.com/ubuntu jammy-updates/restricted amd64 nvidia-compute-utils-470 amd64 470.256.02-0ubuntu0.22.04.1 [113 kB]\n",
            "Get:37 http://archive.ubuntu.com/ubuntu jammy-updates/restricted amd64 nvidia-kernel-source-470 amd64 470.256.02-0ubuntu0.22.04.1 [25.8 MB]\n",
            "Get:38 http://archive.ubuntu.com/ubuntu jammy-updates/restricted amd64 nvidia-kernel-common-470 amd64 470.256.02-0ubuntu0.22.04.1 [17.3 MB]\n",
            "Get:39 http://archive.ubuntu.com/ubuntu jammy-updates/restricted amd64 nvidia-dkms-470 amd64 470.256.02-0ubuntu0.22.04.1 [10.3 kB]\n",
            "Get:40 http://archive.ubuntu.com/ubuntu jammy-updates/restricted amd64 nvidia-utils-470 amd64 470.256.02-0ubuntu0.22.04.1 [408 kB]\n",
            "Get:41 http://archive.ubuntu.com/ubuntu jammy/main amd64 x11-xkb-utils amd64 7.7+5build4 [172 kB]\n",
            "Get:42 http://archive.ubuntu.com/ubuntu jammy-updates/main amd64 xserver-common all 2:21.1.4-2ubuntu1.7~22.04.12 [28.7 kB]\n",
            "Get:43 http://archive.ubuntu.com/ubuntu jammy-updates/main amd64 xserver-xorg-core amd64 2:21.1.4-2ubuntu1.7~22.04.12 [1,477 kB]\n",
            "Get:44 http://archive.ubuntu.com/ubuntu jammy-updates/restricted amd64 xserver-xorg-video-nvidia-470 amd64 470.256.02-0ubuntu0.22.04.1 [1,655 kB]\n",
            "Get:45 http://archive.ubuntu.com/ubuntu jammy-updates/restricted amd64 nvidia-driver-470 amd64 470.256.02-0ubuntu0.22.04.1 [453 kB]\n",
            "Get:46 http://archive.ubuntu.com/ubuntu jammy/main amd64 nvidia-prime all 0.8.17.1 [9,956 B]\n",
            "Get:47 http://archive.ubuntu.com/ubuntu jammy/main amd64 python3-xkit all 0.5.0ubuntu5 [18.5 kB]\n",
            "Get:48 http://archive.ubuntu.com/ubuntu jammy/main amd64 screen-resolution-extra all 0.18.2 [4,396 B]\n",
            "Get:49 http://archive.ubuntu.com/ubuntu jammy-updates/main amd64 systemd-hwe-hwdb all 249.11.5 [3,228 B]\n",
            "Get:50 http://archive.ubuntu.com/ubuntu jammy/main amd64 xcvt amd64 0.1.1-3 [7,140 B]\n",
            "Get:51 http://archive.ubuntu.com/ubuntu jammy/main amd64 xfonts-encodings all 1:1.0.5-0ubuntu2 [578 kB]\n",
            "Get:52 http://archive.ubuntu.com/ubuntu jammy/main amd64 xfonts-utils amd64 1:7.7+6build2 [94.6 kB]\n",
            "Get:53 http://archive.ubuntu.com/ubuntu jammy/main amd64 xfonts-base all 1:1.0.5 [5,896 kB]\n",
            "Fetched 288 MB in 25s (11.5 MB/s)\n",
            "debconf: unable to initialize frontend: Dialog\n",
            "debconf: (No usable dialog-like program is installed, so the dialog based frontend cannot be used. at /usr/share/perl5/Debconf/FrontEnd/Dialog.pm line 78, <> line 53.)\n",
            "debconf: falling back to frontend: Readline\n",
            "debconf: unable to initialize frontend: Readline\n",
            "debconf: (This frontend requires a controlling tty.)\n",
            "debconf: falling back to frontend: Teletype\n",
            "dpkg-preconfigure: unable to re-open stdin: \n",
            "Selecting previously unselected package liblocale-gettext-perl.\n",
            "(Reading database ... 123630 files and directories currently installed.)\n",
            "Preparing to unpack .../0-liblocale-gettext-perl_1.07-4build3_amd64.deb ...\n",
            "Unpacking liblocale-gettext-perl (1.07-4build3) ...\n",
            "Selecting previously unselected package keyboard-configuration.\n",
            "Preparing to unpack .../1-keyboard-configuration_1.205ubuntu3_all.deb ...\n",
            "Unpacking keyboard-configuration (1.205ubuntu3) ...\n",
            "Selecting previously unselected package cpp-12.\n",
            "Preparing to unpack .../2-cpp-12_12.3.0-1ubuntu1~22.04_amd64.deb ...\n",
            "Unpacking cpp-12 (12.3.0-1ubuntu1~22.04) ...\n",
            "Selecting previously unselected package libasan8:amd64.\n",
            "Preparing to unpack .../3-libasan8_12.3.0-1ubuntu1~22.04_amd64.deb ...\n",
            "Unpacking libasan8:amd64 (12.3.0-1ubuntu1~22.04) ...\n",
            "Selecting previously unselected package libtsan2:amd64.\n",
            "Preparing to unpack .../4-libtsan2_12.3.0-1ubuntu1~22.04_amd64.deb ...\n",
            "Unpacking libtsan2:amd64 (12.3.0-1ubuntu1~22.04) ...\n",
            "Selecting previously unselected package libgcc-12-dev:amd64.\n",
            "Preparing to unpack .../5-libgcc-12-dev_12.3.0-1ubuntu1~22.04_amd64.deb ...\n",
            "Unpacking libgcc-12-dev:amd64 (12.3.0-1ubuntu1~22.04) ...\n",
            "Selecting previously unselected package gcc-12.\n",
            "Preparing to unpack .../6-gcc-12_12.3.0-1ubuntu1~22.04_amd64.deb ...\n",
            "Unpacking gcc-12 (12.3.0-1ubuntu1~22.04) ...\n",
            "Selecting previously unselected package dctrl-tools.\n",
            "Preparing to unpack .../7-dctrl-tools_2.24-3build2_amd64.deb ...\n",
            "Unpacking dctrl-tools (2.24-3build2) ...\n",
            "Selecting previously unselected package dkms.\n",
            "Preparing to unpack .../8-dkms_2.8.7-2ubuntu2.2_all.deb ...\n",
            "Unpacking dkms (2.8.7-2ubuntu2.2) ...\n",
            "Preparing to unpack .../9-libudev1_249.11-0ubuntu3.12_amd64.deb ...\n",
            "Unpacking libudev1:amd64 (249.11-0ubuntu3.12) over (249.11-0ubuntu3.10) ...\n",
            "Setting up libudev1:amd64 (249.11-0ubuntu3.12) ...\n",
            "Selecting previously unselected package udev.\n",
            "(Reading database ... 123990 files and directories currently installed.)\n",
            "Preparing to unpack .../00-udev_249.11-0ubuntu3.12_amd64.deb ...\n",
            "Unpacking udev (249.11-0ubuntu3.12) ...\n",
            "Selecting previously unselected package libjansson4:amd64.\n",
            "Preparing to unpack .../01-libjansson4_2.13.1-1.1build3_amd64.deb ...\n",
            "Unpacking libjansson4:amd64 (2.13.1-1.1build3) ...\n",
            "Selecting previously unselected package libfakeroot:amd64.\n",
            "Preparing to unpack .../02-libfakeroot_1.28-1ubuntu1_amd64.deb ...\n",
            "Unpacking libfakeroot:amd64 (1.28-1ubuntu1) ...\n",
            "Selecting previously unselected package fakeroot.\n",
            "Preparing to unpack .../03-fakeroot_1.28-1ubuntu1_amd64.deb ...\n",
            "Unpacking fakeroot (1.28-1ubuntu1) ...\n",
            "Selecting previously unselected package libfontenc1:amd64.\n",
            "Preparing to unpack .../04-libfontenc1_1%3a1.1.4-1build3_amd64.deb ...\n",
            "Unpacking libfontenc1:amd64 (1:1.1.4-1build3) ...\n",
            "Selecting previously unselected package libgtk2.0-common.\n",
            "Preparing to unpack .../05-libgtk2.0-common_2.24.33-2ubuntu2.1_all.deb ...\n",
            "Unpacking libgtk2.0-common (2.24.33-2ubuntu2.1) ...\n",
            "Selecting previously unselected package libgtk2.0-0:amd64.\n",
            "Preparing to unpack .../06-libgtk2.0-0_2.24.33-2ubuntu2.1_amd64.deb ...\n",
            "Unpacking libgtk2.0-0:amd64 (2.24.33-2ubuntu2.1) ...\n",
            "Selecting previously unselected package libgail18:amd64.\n",
            "Preparing to unpack .../07-libgail18_2.24.33-2ubuntu2.1_amd64.deb ...\n",
            "Unpacking libgail18:amd64 (2.24.33-2ubuntu2.1) ...\n",
            "Selecting previously unselected package libgail-common:amd64.\n",
            "Preparing to unpack .../08-libgail-common_2.24.33-2ubuntu2.1_amd64.deb ...\n",
            "Unpacking libgail-common:amd64 (2.24.33-2ubuntu2.1) ...\n",
            "Selecting previously unselected package libgtk2.0-bin.\n",
            "Preparing to unpack .../09-libgtk2.0-bin_2.24.33-2ubuntu2.1_amd64.deb ...\n",
            "Unpacking libgtk2.0-bin (2.24.33-2ubuntu2.1) ...\n",
            "Selecting previously unselected package libnvidia-cfg1-470:amd64.\n",
            "Preparing to unpack .../10-libnvidia-cfg1-470_470.256.02-0ubuntu0.22.04.1_amd64.deb ...\n",
            "Unpacking libnvidia-cfg1-470:amd64 (470.256.02-0ubuntu0.22.04.1) ...\n",
            "Selecting previously unselected package libnvidia-common-470.\n",
            "Preparing to unpack .../11-libnvidia-common-470_470.256.02-0ubuntu0.22.04.1_all.deb ...\n",
            "Unpacking libnvidia-common-470 (470.256.02-0ubuntu0.22.04.1) ...\n",
            "Selecting previously unselected package libnvidia-compute-470:amd64.\n",
            "Preparing to unpack .../12-libnvidia-compute-470_470.256.02-0ubuntu0.22.04.1_amd64.deb ...\n",
            "Unpacking libnvidia-compute-470:amd64 (470.256.02-0ubuntu0.22.04.1) ...\n",
            "Selecting previously unselected package libnvidia-decode-470:amd64.\n",
            "Preparing to unpack .../13-libnvidia-decode-470_470.256.02-0ubuntu0.22.04.1_amd64.deb ...\n",
            "Unpacking libnvidia-decode-470:amd64 (470.256.02-0ubuntu0.22.04.1) ...\n",
            "Selecting previously unselected package libnvidia-egl-wayland1:amd64.\n",
            "Preparing to unpack .../14-libnvidia-egl-wayland1_1%3a1.1.15-0ubuntu0~gpu22.04.1_amd64.deb ...\n",
            "Unpacking libnvidia-egl-wayland1:amd64 (1:1.1.15-0ubuntu0~gpu22.04.1) ...\n",
            "Selecting previously unselected package libnvidia-encode-470:amd64.\n",
            "Preparing to unpack .../15-libnvidia-encode-470_470.256.02-0ubuntu0.22.04.1_amd64.deb ...\n",
            "Unpacking libnvidia-encode-470:amd64 (470.256.02-0ubuntu0.22.04.1) ...\n",
            "Selecting previously unselected package libnvidia-extra-470:amd64.\n",
            "Preparing to unpack .../16-libnvidia-extra-470_470.256.02-0ubuntu0.22.04.1_amd64.deb ...\n",
            "Unpacking libnvidia-extra-470:amd64 (470.256.02-0ubuntu0.22.04.1) ...\n",
            "Selecting previously unselected package libnvidia-fbc1-470:amd64.\n",
            "Preparing to unpack .../17-libnvidia-fbc1-470_470.256.02-0ubuntu0.22.04.1_amd64.deb ...\n",
            "Unpacking libnvidia-fbc1-470:amd64 (470.256.02-0ubuntu0.22.04.1) ...\n",
            "Selecting previously unselected package libnvidia-gl-470:amd64.\n",
            "Preparing to unpack .../18-libnvidia-gl-470_470.256.02-0ubuntu0.22.04.1_amd64.deb ...\n",
            "Unpacking libnvidia-gl-470:amd64 (470.256.02-0ubuntu0.22.04.1) ...\n",
            "Selecting previously unselected package libnvidia-ifr1-470:amd64.\n",
            "Preparing to unpack .../19-libnvidia-ifr1-470_470.256.02-0ubuntu0.22.04.1_amd64.deb ...\n",
            "Unpacking libnvidia-ifr1-470:amd64 (470.256.02-0ubuntu0.22.04.1) ...\n",
            "Selecting previously unselected package librsvg2-common:amd64.\n",
            "Preparing to unpack .../20-librsvg2-common_2.52.5+dfsg-3ubuntu0.2_amd64.deb ...\n",
            "Unpacking librsvg2-common:amd64 (2.52.5+dfsg-3ubuntu0.2) ...\n",
            "Selecting previously unselected package libxcvt0:amd64.\n",
            "Preparing to unpack .../21-libxcvt0_0.1.1-3_amd64.deb ...\n",
            "Unpacking libxcvt0:amd64 (0.1.1-3) ...\n",
            "Selecting previously unselected package libxfont2:amd64.\n",
            "Preparing to unpack .../22-libxfont2_1%3a2.0.5-1build1_amd64.deb ...\n",
            "Unpacking libxfont2:amd64 (1:2.0.5-1build1) ...\n",
            "Selecting previously unselected package libxkbfile1:amd64.\n",
            "Preparing to unpack .../23-libxkbfile1_1%3a1.1.0-1build3_amd64.deb ...\n",
            "Unpacking libxkbfile1:amd64 (1:1.1.0-1build3) ...\n",
            "Selecting previously unselected package nvidia-compute-utils-470.\n",
            "Preparing to unpack .../24-nvidia-compute-utils-470_470.256.02-0ubuntu0.22.04.1_amd64.deb ...\n",
            "Unpacking nvidia-compute-utils-470 (470.256.02-0ubuntu0.22.04.1) ...\n",
            "Selecting previously unselected package nvidia-kernel-source-470.\n",
            "Preparing to unpack .../25-nvidia-kernel-source-470_470.256.02-0ubuntu0.22.04.1_amd64.deb ...\n",
            "Unpacking nvidia-kernel-source-470 (470.256.02-0ubuntu0.22.04.1) ...\n",
            "Selecting previously unselected package nvidia-kernel-common-470.\n",
            "Preparing to unpack .../26-nvidia-kernel-common-470_470.256.02-0ubuntu0.22.04.1_amd64.deb ...\n",
            "Unpacking nvidia-kernel-common-470 (470.256.02-0ubuntu0.22.04.1) ...\n",
            "Selecting previously unselected package nvidia-dkms-470.\n",
            "Preparing to unpack .../27-nvidia-dkms-470_470.256.02-0ubuntu0.22.04.1_amd64.deb ...\n",
            "Unpacking nvidia-dkms-470 (470.256.02-0ubuntu0.22.04.1) ...\n",
            "Selecting previously unselected package nvidia-utils-470.\n",
            "Preparing to unpack .../28-nvidia-utils-470_470.256.02-0ubuntu0.22.04.1_amd64.deb ...\n",
            "Unpacking nvidia-utils-470 (470.256.02-0ubuntu0.22.04.1) ...\n",
            "Selecting previously unselected package x11-xkb-utils.\n",
            "Preparing to unpack .../29-x11-xkb-utils_7.7+5build4_amd64.deb ...\n",
            "Unpacking x11-xkb-utils (7.7+5build4) ...\n",
            "Selecting previously unselected package xserver-common.\n",
            "Preparing to unpack .../30-xserver-common_2%3a21.1.4-2ubuntu1.7~22.04.12_all.deb ...\n",
            "Unpacking xserver-common (2:21.1.4-2ubuntu1.7~22.04.12) ...\n",
            "Selecting previously unselected package xserver-xorg-core.\n",
            "Preparing to unpack .../31-xserver-xorg-core_2%3a21.1.4-2ubuntu1.7~22.04.12_amd64.deb ...\n",
            "Unpacking xserver-xorg-core (2:21.1.4-2ubuntu1.7~22.04.12) ...\n",
            "Selecting previously unselected package xserver-xorg-video-nvidia-470.\n",
            "Preparing to unpack .../32-xserver-xorg-video-nvidia-470_470.256.02-0ubuntu0.22.04.1_amd64.deb ...\n",
            "Unpacking xserver-xorg-video-nvidia-470 (470.256.02-0ubuntu0.22.04.1) ...\n",
            "Selecting previously unselected package nvidia-driver-470.\n",
            "Preparing to unpack .../33-nvidia-driver-470_470.256.02-0ubuntu0.22.04.1_amd64.deb ...\n",
            "Unpacking nvidia-driver-470 (470.256.02-0ubuntu0.22.04.1) ...\n",
            "Selecting previously unselected package nvidia-prime.\n",
            "Preparing to unpack .../34-nvidia-prime_0.8.17.1_all.deb ...\n",
            "Unpacking nvidia-prime (0.8.17.1) ...\n",
            "Selecting previously unselected package python3-xkit.\n",
            "Preparing to unpack .../35-python3-xkit_0.5.0ubuntu5_all.deb ...\n",
            "Unpacking python3-xkit (0.5.0ubuntu5) ...\n",
            "Selecting previously unselected package screen-resolution-extra.\n",
            "Preparing to unpack .../36-screen-resolution-extra_0.18.2_all.deb ...\n",
            "Unpacking screen-resolution-extra (0.18.2) ...\n",
            "Selecting previously unselected package nvidia-settings.\n",
            "Preparing to unpack .../37-nvidia-settings_565.57.01-0ubuntu1_amd64.deb ...\n",
            "Unpacking nvidia-settings (565.57.01-0ubuntu1) ...\n",
            "Selecting previously unselected package systemd-hwe-hwdb.\n",
            "Preparing to unpack .../38-systemd-hwe-hwdb_249.11.5_all.deb ...\n",
            "Unpacking systemd-hwe-hwdb (249.11.5) ...\n",
            "Selecting previously unselected package xcvt.\n",
            "Preparing to unpack .../39-xcvt_0.1.1-3_amd64.deb ...\n",
            "Unpacking xcvt (0.1.1-3) ...\n",
            "Selecting previously unselected package xfonts-encodings.\n",
            "Preparing to unpack .../40-xfonts-encodings_1%3a1.0.5-0ubuntu2_all.deb ...\n",
            "Unpacking xfonts-encodings (1:1.0.5-0ubuntu2) ...\n",
            "Selecting previously unselected package xfonts-utils.\n",
            "Preparing to unpack .../41-xfonts-utils_1%3a7.7+6build2_amd64.deb ...\n",
            "Unpacking xfonts-utils (1:7.7+6build2) ...\n",
            "Selecting previously unselected package xfonts-base.\n",
            "Preparing to unpack .../42-xfonts-base_1%3a1.0.5_all.deb ...\n",
            "Unpacking xfonts-base (1:1.0.5) ...\n",
            "Setting up nvidia-kernel-source-470 (470.256.02-0ubuntu0.22.04.1) ...\n",
            "Setting up cpp-12 (12.3.0-1ubuntu1~22.04) ...\n",
            "Setting up nvidia-prime (0.8.17.1) ...\n",
            "Setting up libnvidia-compute-470:amd64 (470.256.02-0ubuntu0.22.04.1) ...\n",
            "Setting up libnvidia-extra-470:amd64 (470.256.02-0ubuntu0.22.04.1) ...\n",
            "Setting up nvidia-utils-470 (470.256.02-0ubuntu0.22.04.1) ...\n",
            "Setting up libnvidia-fbc1-470:amd64 (470.256.02-0ubuntu0.22.04.1) ...\n",
            "Setting up nvidia-compute-utils-470 (470.256.02-0ubuntu0.22.04.1) ...\n",
            "Warning: The home dir /nonexistent you specified can't be accessed: No such file or directory\n",
            "Adding system user `nvidia-persistenced' (UID 104) ...\n",
            "Adding new group `nvidia-persistenced' (GID 107) ...\n",
            "Adding new user `nvidia-persistenced' (UID 104) with group `nvidia-persistenced' ...\n",
            "Not creating home directory `/nonexistent'.\n",
            "Setting up libfakeroot:amd64 (1.28-1ubuntu1) ...\n",
            "Setting up libjansson4:amd64 (2.13.1-1.1build3) ...\n",
            "Setting up fakeroot (1.28-1ubuntu1) ...\n",
            "update-alternatives: using /usr/bin/fakeroot-sysv to provide /usr/bin/fakeroot (fakeroot) in auto mode\n",
            "Setting up libnvidia-egl-wayland1:amd64 (1:1.1.15-0ubuntu0~gpu22.04.1) ...\n",
            "Setting up libfontenc1:amd64 (1:1.1.4-1build3) ...\n",
            "Setting up libnvidia-cfg1-470:amd64 (470.256.02-0ubuntu0.22.04.1) ...\n",
            "Setting up xfonts-encodings (1:1.0.5-0ubuntu2) ...\n",
            "Setting up udev (249.11-0ubuntu3.12) ...\n",
            "invoke-rc.d: could not determine current runlevel\n",
            "invoke-rc.d: policy-rc.d denied execution of start.\n",
            "Setting up libnvidia-common-470 (470.256.02-0ubuntu0.22.04.1) ...\n",
            "Setting up librsvg2-common:amd64 (2.52.5+dfsg-3ubuntu0.2) ...\n",
            "Setting up systemd-hwe-hwdb (249.11.5) ...\n",
            "Setting up nvidia-kernel-common-470 (470.256.02-0ubuntu0.22.04.1) ...\n",
            "Created symlink /etc/systemd/system/systemd-hibernate.service.requires/nvidia-hibernate.service → /lib/systemd/system/nvidia-hibernate.service.\n",
            "Created symlink /etc/systemd/system/systemd-suspend.service.requires/nvidia-resume.service → /lib/systemd/system/nvidia-resume.service.\n",
            "Created symlink /etc/systemd/system/systemd-hibernate.service.requires/nvidia-resume.service → /lib/systemd/system/nvidia-resume.service.\n",
            "Created symlink /etc/systemd/system/systemd-suspend.service.requires/nvidia-suspend.service → /lib/systemd/system/nvidia-suspend.service.\n",
            "Setting up libnvidia-gl-470:amd64 (470.256.02-0ubuntu0.22.04.1) ...\n",
            "Setting up libasan8:amd64 (12.3.0-1ubuntu1~22.04) ...\n",
            "Setting up libxcvt0:amd64 (0.1.1-3) ...\n",
            "Setting up libgtk2.0-common (2.24.33-2ubuntu2.1) ...\n",
            "Setting up libxkbfile1:amd64 (1:1.1.0-1build3) ...\n",
            "Setting up libtsan2:amd64 (12.3.0-1ubuntu1~22.04) ...\n",
            "Setting up python3-xkit (0.5.0ubuntu5) ...\n",
            "Setting up libxfont2:amd64 (1:2.0.5-1build1) ...\n",
            "Setting up liblocale-gettext-perl (1.07-4build3) ...\n",
            "Setting up dctrl-tools (2.24-3build2) ...\n",
            "Setting up libnvidia-decode-470:amd64 (470.256.02-0ubuntu0.22.04.1) ...\n",
            "Setting up x11-xkb-utils (7.7+5build4) ...\n",
            "Setting up libgtk2.0-0:amd64 (2.24.33-2ubuntu2.1) ...\n",
            "Setting up libnvidia-ifr1-470:amd64 (470.256.02-0ubuntu0.22.04.1) ...\n",
            "Setting up xfonts-utils (1:7.7+6build2) ...\n",
            "Setting up xcvt (0.1.1-3) ...\n",
            "Setting up xfonts-base (1:1.0.5) ...\n",
            "Setting up libgcc-12-dev:amd64 (12.3.0-1ubuntu1~22.04) ...\n",
            "Setting up libnvidia-encode-470:amd64 (470.256.02-0ubuntu0.22.04.1) ...\n",
            "Setting up screen-resolution-extra (0.18.2) ...\n",
            "Setting up libgail18:amd64 (2.24.33-2ubuntu2.1) ...\n",
            "Setting up libgtk2.0-bin (2.24.33-2ubuntu2.1) ...\n",
            "Setting up nvidia-settings (565.57.01-0ubuntu1) ...\n",
            "Setting up xserver-common (2:21.1.4-2ubuntu1.7~22.04.12) ...\n",
            "Setting up keyboard-configuration (1.205ubuntu3) ...\n",
            "debconf: unable to initialize frontend: Dialog\n",
            "debconf: (No usable dialog-like program is installed, so the dialog based frontend cannot be used. at /usr/share/perl5/Debconf/FrontEnd/Dialog.pm line 78.)\n",
            "debconf: falling back to frontend: Readline\n",
            "Configuring keyboard-configuration\n",
            "----------------------------------\n",
            "\n",
            "The layout of keyboards varies per country, with some countries having multiple\n",
            "common layouts. Please select the country of origin for the keyboard of this\n",
            "computer.\n",
            "\n",
            "  1. Afghani\n",
            "  2. Albanian\n",
            "  3. Amharic\n",
            "  4. Arabic\n",
            "  5. Arabic (Morocco)\n",
            "  6. Arabic (Syria)\n",
            "  7. Armenian\n",
            "  8. A user-defined custom Layout\n",
            "  9. Azerbaijani\n",
            "  10. Bambara\n",
            "  11. Bangla\n",
            "  12. Belarusian\n",
            "  13. Belgian\n",
            "  14. Berber (Algeria, Latin)\n",
            "  15. Bosnian\n",
            "  16. Braille\n",
            "  17. Bulgarian\n",
            "  18. Burmese\n",
            "  19. Chinese\n",
            "  20. Croatian\n",
            "  21. Czech\n",
            "  22. Danish\n",
            "  23. Dhivehi\n",
            "  24. Dutch\n",
            "  25. Dzongkha\n",
            "  26. English (Australian)\n",
            "  27. English (Cameroon)\n",
            "  28. English (Ghana)\n",
            "  29. English (Nigeria)\n",
            "  30. English (South Africa)\n",
            "  31. English (UK)\n",
            "  32. English (US)\n",
            "  33. Esperanto\n",
            "  34. Estonian\n",
            "  35. Faroese\n",
            "  36. Filipino\n",
            "  37. Finnish\n",
            "  38. French\n",
            "  39. French (Canada)\n",
            "  40. French (Democratic Republic of the Congo)\n",
            "  41. French (Togo)\n",
            "  42. Georgian\n",
            "  43. German\n",
            "  44. German (Austria)\n",
            "  45. Greek\n",
            "  46. Hebrew\n",
            "  47. Hungarian\n",
            "  48. Icelandic\n",
            "  49. Indian\n",
            "  50. Indonesian (Javanese)\n",
            "  51. Indonesian (Latin)\n",
            "  52. Iraqi\n",
            "  53. Irish\n",
            "  54. Italian\n",
            "  55. Japanese\n",
            "  56. Japanese (PC-98)\n",
            "  57. Kazakh\n",
            "  58. Khmer (Cambodia)\n",
            "  59. Korean\n",
            "  60. Kyrgyz\n",
            "  61. Lao\n",
            "  62. Latvian\n",
            "  63. Lithuanian\n",
            "  64. Macedonian\n",
            "  65. Malay (Jawi, Arabic Keyboard)\n",
            "  66. Maltese\n",
            "  67. Maori\n",
            "  68. Moldavian\n",
            "  69. Mongolian\n",
            "  70. Montenegrin\n",
            "  71. Nepali\n",
            "  72. NKo (AZERTY)\n",
            "  73. Norwegian\n",
            "  74. Persian\n",
            "  75. Polish\n",
            "  76. Portuguese\n",
            "  77. Portuguese (Brazil)\n",
            "  78. Romanian\n",
            "  79. Russian\n",
            "  80. Serbian\n",
            "  81. Sinhala (phonetic)\n",
            "  82. Slovak\n",
            "  83. Slovenian\n",
            "  84. Spanish\n",
            "  85. Spanish (Latin American)\n",
            "  86. Swahili (Kenya)\n",
            "  87. Swahili (Tanzania)\n",
            "  88. Swedish\n",
            "  89. Switzerland\n",
            "  90. Taiwanese\n",
            "  91. Tajik\n",
            "  92. Thai\n",
            "  93. Tswana\n",
            "  94. Turkish\n",
            "  95. Turkmen\n",
            "  96. Ukrainian\n",
            "  97. Urdu (Pakistan)\n",
            "  98. Uzbek\n",
            "  99. Vietnamese\n",
            "  100. Wolof\n",
            "\u001b[4mCountry of origin for the keyboard: \u001b[m\u001b[1m31\n",
            "\u001b[m\u001b[m\n",
            "Please select the layout matching the keyboard for this machine.\n",
            "\n",
            "  1. English (UK)\n",
            "  2. English (UK) - English (UK, Colemak)\n",
            "  3. English (UK) - English (UK, Colemak-DH)\n",
            "  4. English (UK) - English (UK, Dvorak)\n",
            "  5. English (UK) - English (UK, Dvorak, with UK punctuation)\n",
            "  6. English (UK) - English (UK, extended, Windows)\n",
            "  7. English (UK) - English (UK, intl., with dead keys)\n",
            "  8. English (UK) - English (UK, Macintosh)\n",
            "  9. English (UK) - English (UK, Macintosh, intl.)\n",
            "  10. English (UK) - Polish (British keyboard)\n",
            "\u001b[4mKeyboard layout: \u001b[m\u001b[1m6\n",
            "\u001b[m\u001b[m\n",
            "Your console font configuration will be updated the next time your system\n",
            "boots. If you want to update it now, run 'setupcon' from a virtual console.\n",
            "Setting up libgail-common:amd64 (2.24.33-2ubuntu2.1) ...\n",
            "Setting up xserver-xorg-core (2:21.1.4-2ubuntu1.7~22.04.12) ...\n",
            "Setting up gcc-12 (12.3.0-1ubuntu1~22.04) ...\n",
            "Setting up xserver-xorg-video-nvidia-470 (470.256.02-0ubuntu0.22.04.1) ...\n",
            "Setting up dkms (2.8.7-2ubuntu2.2) ...\n",
            "Setting up nvidia-dkms-470 (470.256.02-0ubuntu0.22.04.1) ...\n",
            "debconf: unable to initialize frontend: Dialog\n",
            "debconf: (No usable dialog-like program is installed, so the dialog based frontend cannot be used. at /usr/share/perl5/Debconf/FrontEnd/Dialog.pm line 78.)\n",
            "debconf: falling back to frontend: Readline\n",
            "Loading new nvidia-470.256.02 DKMS files...\n",
            "It is likely that 6.1.85+ belongs to a chroot's host\n",
            "Building for 5.15.0-126-generic\n",
            "Building for architecture x86_64\n",
            "Building initial module for 5.15.0-126-generic\n",
            "\n",
            "setupcon\n",
            "\n",
            "\n",
            "\n",
            "setupcon\n",
            "Done.\n",
            "\n",
            "nvidia.ko:\n",
            "Running module version sanity check.\n",
            " - Original module\n",
            "   - No original module exists within this kernel\n",
            " - Installation\n",
            "   - Installing to /lib/modules/5.15.0-126-generic/updates/dkms/\n",
            "\n",
            "nvidia-modeset.ko:\n",
            "Running module version sanity check.\n",
            " - Original module\n",
            "   - No original module exists within this kernel\n",
            " - Installation\n",
            "   - Installing to /lib/modules/5.15.0-126-generic/updates/dkms/\n",
            "\n",
            "nvidia-drm.ko:\n",
            "Running module version sanity check.\n",
            " - Original module\n",
            "   - No original module exists within this kernel\n",
            " - Installation\n",
            "   - Installing to /lib/modules/5.15.0-126-generic/updates/dkms/\n",
            "\n",
            "nvidia-uvm.ko:\n",
            "Running module version sanity check.\n",
            " - Original module\n",
            "   - No original module exists within this kernel\n",
            " - Installation\n",
            "   - Installing to /lib/modules/5.15.0-126-generic/updates/dkms/\n",
            "\n",
            "nvidia-peermem.ko:\n",
            "Running module version sanity check.\n",
            " - Original module\n",
            "   - No original module exists within this kernel\n",
            " - Installation\n",
            "   - Installing to /lib/modules/5.15.0-126-generic/updates/dkms/\n",
            "\n",
            "depmod...\n",
            "Setting up nvidia-driver-470 (470.256.02-0ubuntu0.22.04.1) ...\n",
            "Processing triggers for fontconfig (2.13.1-4.2ubuntu5) ...\n",
            "Processing triggers for libc-bin (2.35-0ubuntu3.4) ...\n",
            "/sbin/ldconfig.real: /usr/local/lib/libtbb.so.12 is not a symbolic link\n",
            "\n",
            "/sbin/ldconfig.real: /usr/local/lib/libumf.so.0 is not a symbolic link\n",
            "\n",
            "/sbin/ldconfig.real: /usr/local/lib/libtbbmalloc.so.2 is not a symbolic link\n",
            "\n",
            "/sbin/ldconfig.real: /usr/local/lib/libur_loader.so.0 is not a symbolic link\n",
            "\n",
            "/sbin/ldconfig.real: /usr/local/lib/libtbbbind_2_5.so.3 is not a symbolic link\n",
            "\n",
            "/sbin/ldconfig.real: /usr/local/lib/libtcm_debug.so.1 is not a symbolic link\n",
            "\n",
            "/sbin/ldconfig.real: /usr/local/lib/libur_adapter_level_zero.so.0 is not a symbolic link\n",
            "\n",
            "/sbin/ldconfig.real: /usr/local/lib/libur_adapter_opencl.so.0 is not a symbolic link\n",
            "\n",
            "/sbin/ldconfig.real: /usr/local/lib/libtbbbind_2_0.so.3 is not a symbolic link\n",
            "\n",
            "/sbin/ldconfig.real: /usr/local/lib/libtbbmalloc_proxy.so.2 is not a symbolic link\n",
            "\n",
            "/sbin/ldconfig.real: /usr/local/lib/libtcm.so.1 is not a symbolic link\n",
            "\n",
            "/sbin/ldconfig.real: /usr/local/lib/libtbbbind.so.3 is not a symbolic link\n",
            "\n",
            "/sbin/ldconfig.real: /usr/local/lib/libhwloc.so.15 is not a symbolic link\n",
            "\n",
            "Processing triggers for man-db (2.10.2-1) ...\n",
            "Processing triggers for libgdk-pixbuf-2.0-0:amd64 (2.42.8+dfsg-1ubuntu0.3) ...\n"
          ]
        }
      ]
    },
    {
      "cell_type": "code",
      "source": [
        "#when using cpu\n",
        "import torch\n",
        "import torchvision\n",
        "import torchvision.transforms as transforms\n",
        "from torch.optim import SGD\n",
        "from torch.optim.lr_scheduler import CosineAnnealingLR\n",
        "from torch.utils.data import DataLoader\n",
        "from tqdm import tqdm\n",
        "\n",
        "def train_model():\n",
        "    # Data Augmentation and Preprocessing\n",
        "    transform_train = transforms.Compose([\n",
        "        transforms.RandomCrop(32, padding=4),\n",
        "        transforms.RandomHorizontalFlip(),\n",
        "        transforms.ToTensor(),\n",
        "        transforms.Normalize((0.5, 0.5, 0.5), (0.5, 0.5, 0.5)),\n",
        "    ])\n",
        "    transform_test = transforms.Compose([\n",
        "        transforms.ToTensor(),\n",
        "        transforms.Normalize((0.5, 0.5, 0.5), (0.5, 0.5, 0.5)),\n",
        "    ])\n",
        "\n",
        "    train_dataset = torchvision.datasets.CIFAR10(root='./data', train=True, download=True, transform=transform_train)\n",
        "    test_dataset = torchvision.datasets.CIFAR10(root='./data', train=False, download=True, transform=transform_test)\n",
        "\n",
        "    train_loader = DataLoader(train_dataset, batch_size=128, shuffle=True, num_workers=4)\n",
        "    test_loader = DataLoader(test_dataset, batch_size=128, shuffle=False, num_workers=4)\n",
        "\n",
        "    # Model, Loss, Optimizer, Scheduler\n",
        "    model = CIFAR10LightModel().to('cpu')\n",
        "    criterion = nn.CrossEntropyLoss()\n",
        "    optimizer = SGD(model.parameters(), lr=0.1, momentum=0.9, weight_decay=3e-4)\n",
        "    scheduler = CosineAnnealingLR(optimizer, T_max=50)\n",
        "\n",
        "    # Training Loop\n",
        "    for epoch in range(50):\n",
        "        model.train()\n",
        "        running_loss = 0.0\n",
        "        pbar = tqdm(train_loader, desc=f\"Epoch {epoch+1}\")\n",
        "        for inputs, targets in pbar:\n",
        "            inputs, targets = inputs.to('cpu'), targets.to('cpu')\n",
        "\n",
        "            optimizer.zero_grad()\n",
        "            outputs = model(inputs)\n",
        "            loss = criterion(outputs, targets)\n",
        "            loss.backward()\n",
        "            optimizer.step()\n",
        "\n",
        "            running_loss += loss.item()\n",
        "            pbar.set_postfix(loss=running_loss / len(train_loader))\n",
        "\n",
        "        scheduler.step()\n",
        "\n",
        "        # Validation\n",
        "        model.eval()\n",
        "        correct, total = 0, 0\n",
        "        with torch.no_grad():\n",
        "            for inputs, targets in test_loader:\n",
        "                inputs, targets = inputs.to('cpu'), targets.to('cpu')\n",
        "                outputs = model(inputs)\n",
        "                _, predicted = outputs.max(1)\n",
        "                total += targets.size(0)\n",
        "                correct += (predicted == targets).sum().item()\n",
        "\n",
        "        acc = 100.0 * correct / total\n",
        "        print(f\"Validation Accuracy after Epoch {epoch+1}: {acc:.2f}%\")\n",
        "\n",
        "    # Save Model\n",
        "    torch.save(model.state_dict(), \"cifar10_light_model.pth\")\n",
        "    print(\"Model training complete. Saved as 'cifar10_light_model.pth'\")\n",
        "\n",
        "if __name__ == \"__main__\":\n",
        "    train_model()"
      ],
      "metadata": {
        "colab": {
          "base_uri": "https://localhost:8080/"
        },
        "id": "R3iiEp6Zl0B-",
        "outputId": "984d10bd-a4bc-42b7-eb8e-67922c560f51"
      },
      "execution_count": null,
      "outputs": [
        {
          "output_type": "stream",
          "name": "stdout",
          "text": [
            "Files already downloaded and verified\n",
            "Files already downloaded and verified\n"
          ]
        },
        {
          "output_type": "stream",
          "name": "stderr",
          "text": [
            "Epoch 1:   3%|▎         | 12/391 [01:06<32:50,  5.20s/it, loss=0.0686]"
          ]
        }
      ]
    },
    {
      "cell_type": "code",
      "source": [
        "import torch\n",
        "import torchvision\n",
        "import torchvision.transforms as transforms\n",
        "from torch.optim import SGD\n",
        "from torch.optim.lr_scheduler import CosineAnnealingLR\n",
        "from torch.utils.data import DataLoader\n",
        "from tqdm import tqdm\n",
        "\n",
        "def train_model():\n",
        "    # Data Augmentation and Preprocessing\n",
        "    transform_train = transforms.Compose([\n",
        "        transforms.RandomCrop(32, padding=4),\n",
        "        transforms.RandomHorizontalFlip(),\n",
        "        transforms.ToTensor(),\n",
        "        transforms.Normalize((0.5, 0.5, 0.5), (0.5, 0.5, 0.5)),\n",
        "    ])\n",
        "    transform_test = transforms.Compose([\n",
        "        transforms.ToTensor(),\n",
        "        transforms.Normalize((0.5, 0.5, 0.5), (0.5, 0.5, 0.5)),\n",
        "    ])\n",
        "\n",
        "    train_dataset = torchvision.datasets.CIFAR10(root='./data', train=True, download=True, transform=transform_train)\n",
        "    test_dataset = torchvision.datasets.CIFAR10(root='./data', train=False, download=True, transform=transform_test)\n",
        "\n",
        "    train_loader = DataLoader(train_dataset, batch_size=128, shuffle=True, num_workers=4)\n",
        "    test_loader = DataLoader(test_dataset, batch_size=128, shuffle=False, num_workers=4)\n",
        "\n",
        "    # Model, Loss, Optimizer, Scheduler\n",
        "    model = CIFAR10LightModel().to('cuda')\n",
        "    criterion = nn.CrossEntropyLoss()\n",
        "    optimizer = SGD(model.parameters(), lr=0.1, momentum=0.9, weight_decay=3e-4)\n",
        "    scheduler = CosineAnnealingLR(optimizer, T_max=50)\n",
        "\n",
        "    # Training Loop\n",
        "    for epoch in range(50):\n",
        "        model.train()\n",
        "        running_loss = 0.0\n",
        "        pbar = tqdm(train_loader, desc=f\"Epoch {epoch+1}\")\n",
        "        for inputs, targets in pbar:\n",
        "            inputs, targets = inputs.to('cuda'), targets.to('cuda')\n",
        "\n",
        "            optimizer.zero_grad()\n",
        "            outputs = model(inputs)\n",
        "            loss = criterion(outputs, targets)\n",
        "            loss.backward()\n",
        "            optimizer.step()\n",
        "\n",
        "            running_loss += loss.item()\n",
        "            pbar.set_postfix(loss=running_loss / len(train_loader))\n",
        "\n",
        "        scheduler.step()\n",
        "\n",
        "        # Validation\n",
        "        model.eval()\n",
        "        correct, total = 0, 0\n",
        "        with torch.no_grad():\n",
        "            for inputs, targets in test_loader:\n",
        "                inputs, targets = inputs.to('cuda'), targets.to('cuda')\n",
        "                outputs = model(inputs)\n",
        "                _, predicted = outputs.max(1)\n",
        "                total += targets.size(0)\n",
        "                correct += (predicted == targets).sum().item()\n",
        "\n",
        "        acc = 100.0 * correct / total\n",
        "        print(f\"Validation Accuracy after Epoch {epoch+1}: {acc:.2f}%\")\n",
        "\n",
        "    # Save Model\n",
        "    torch.save(model.state_dict(), \"cifar10_light_model.pth\")\n",
        "    print(\"Model training complete. Saved as 'cifar10_light_model.pth'\")\n",
        "\n",
        "if __name__ == \"__main__\":\n",
        "    train_model()"
      ],
      "metadata": {
        "colab": {
          "base_uri": "https://localhost:8080/"
        },
        "id": "vhla-Ti5mMyu",
        "outputId": "f44dcd54-92c6-42df-c23a-9f2630b35a66"
      },
      "execution_count": 4,
      "outputs": [
        {
          "output_type": "stream",
          "name": "stdout",
          "text": [
            "Files already downloaded and verified\n",
            "Files already downloaded and verified\n"
          ]
        },
        {
          "output_type": "stream",
          "name": "stderr",
          "text": [
            "Epoch 1: 100%|██████████| 391/391 [00:32<00:00, 12.18it/s, loss=1.37]\n"
          ]
        },
        {
          "output_type": "stream",
          "name": "stdout",
          "text": [
            "Validation Accuracy after Epoch 1: 60.34%\n"
          ]
        },
        {
          "output_type": "stream",
          "name": "stderr",
          "text": [
            "Epoch 2: 100%|██████████| 391/391 [00:29<00:00, 13.46it/s, loss=0.897]\n"
          ]
        },
        {
          "output_type": "stream",
          "name": "stdout",
          "text": [
            "Validation Accuracy after Epoch 2: 65.62%\n"
          ]
        },
        {
          "output_type": "stream",
          "name": "stderr",
          "text": [
            "Epoch 3: 100%|██████████| 391/391 [00:28<00:00, 13.56it/s, loss=0.726]\n"
          ]
        },
        {
          "output_type": "stream",
          "name": "stdout",
          "text": [
            "Validation Accuracy after Epoch 3: 73.02%\n"
          ]
        },
        {
          "output_type": "stream",
          "name": "stderr",
          "text": [
            "Epoch 4: 100%|██████████| 391/391 [00:29<00:00, 13.46it/s, loss=0.636]\n"
          ]
        },
        {
          "output_type": "stream",
          "name": "stdout",
          "text": [
            "Validation Accuracy after Epoch 4: 78.21%\n"
          ]
        },
        {
          "output_type": "stream",
          "name": "stderr",
          "text": [
            "Epoch 5: 100%|██████████| 391/391 [00:29<00:00, 13.38it/s, loss=0.578]\n"
          ]
        },
        {
          "output_type": "stream",
          "name": "stdout",
          "text": [
            "Validation Accuracy after Epoch 5: 80.27%\n"
          ]
        },
        {
          "output_type": "stream",
          "name": "stderr",
          "text": [
            "Epoch 6: 100%|██████████| 391/391 [00:29<00:00, 13.22it/s, loss=0.54]\n"
          ]
        },
        {
          "output_type": "stream",
          "name": "stdout",
          "text": [
            "Validation Accuracy after Epoch 6: 79.65%\n"
          ]
        },
        {
          "output_type": "stream",
          "name": "stderr",
          "text": [
            "Epoch 7: 100%|██████████| 391/391 [00:29<00:00, 13.22it/s, loss=0.508]\n"
          ]
        },
        {
          "output_type": "stream",
          "name": "stdout",
          "text": [
            "Validation Accuracy after Epoch 7: 80.45%\n"
          ]
        },
        {
          "output_type": "stream",
          "name": "stderr",
          "text": [
            "Epoch 8: 100%|██████████| 391/391 [00:29<00:00, 13.46it/s, loss=0.486]\n"
          ]
        },
        {
          "output_type": "stream",
          "name": "stdout",
          "text": [
            "Validation Accuracy after Epoch 8: 82.06%\n"
          ]
        },
        {
          "output_type": "stream",
          "name": "stderr",
          "text": [
            "Epoch 9: 100%|██████████| 391/391 [00:29<00:00, 13.48it/s, loss=0.462]\n"
          ]
        },
        {
          "output_type": "stream",
          "name": "stdout",
          "text": [
            "Validation Accuracy after Epoch 9: 81.63%\n"
          ]
        },
        {
          "output_type": "stream",
          "name": "stderr",
          "text": [
            "Epoch 10: 100%|██████████| 391/391 [00:29<00:00, 13.10it/s, loss=0.452]\n"
          ]
        },
        {
          "output_type": "stream",
          "name": "stdout",
          "text": [
            "Validation Accuracy after Epoch 10: 81.16%\n"
          ]
        },
        {
          "output_type": "stream",
          "name": "stderr",
          "text": [
            "Epoch 11: 100%|██████████| 391/391 [00:29<00:00, 13.18it/s, loss=0.437]\n"
          ]
        },
        {
          "output_type": "stream",
          "name": "stdout",
          "text": [
            "Validation Accuracy after Epoch 11: 80.71%\n"
          ]
        },
        {
          "output_type": "stream",
          "name": "stderr",
          "text": [
            "Epoch 12: 100%|██████████| 391/391 [00:28<00:00, 13.53it/s, loss=0.427]\n"
          ]
        },
        {
          "output_type": "stream",
          "name": "stdout",
          "text": [
            "Validation Accuracy after Epoch 12: 84.09%\n"
          ]
        },
        {
          "output_type": "stream",
          "name": "stderr",
          "text": [
            "Epoch 13: 100%|██████████| 391/391 [00:28<00:00, 13.50it/s, loss=0.409]\n"
          ]
        },
        {
          "output_type": "stream",
          "name": "stdout",
          "text": [
            "Validation Accuracy after Epoch 13: 83.59%\n"
          ]
        },
        {
          "output_type": "stream",
          "name": "stderr",
          "text": [
            "Epoch 14: 100%|██████████| 391/391 [00:29<00:00, 13.13it/s, loss=0.402]\n"
          ]
        },
        {
          "output_type": "stream",
          "name": "stdout",
          "text": [
            "Validation Accuracy after Epoch 14: 83.34%\n"
          ]
        },
        {
          "output_type": "stream",
          "name": "stderr",
          "text": [
            "Epoch 15: 100%|██████████| 391/391 [00:28<00:00, 13.49it/s, loss=0.387]\n"
          ]
        },
        {
          "output_type": "stream",
          "name": "stdout",
          "text": [
            "Validation Accuracy after Epoch 15: 83.92%\n"
          ]
        },
        {
          "output_type": "stream",
          "name": "stderr",
          "text": [
            "Epoch 16: 100%|██████████| 391/391 [00:28<00:00, 13.52it/s, loss=0.382]\n"
          ]
        },
        {
          "output_type": "stream",
          "name": "stdout",
          "text": [
            "Validation Accuracy after Epoch 16: 83.81%\n"
          ]
        },
        {
          "output_type": "stream",
          "name": "stderr",
          "text": [
            "Epoch 17: 100%|██████████| 391/391 [00:29<00:00, 13.47it/s, loss=0.368]\n"
          ]
        },
        {
          "output_type": "stream",
          "name": "stdout",
          "text": [
            "Validation Accuracy after Epoch 17: 84.70%\n"
          ]
        },
        {
          "output_type": "stream",
          "name": "stderr",
          "text": [
            "Epoch 18: 100%|██████████| 391/391 [00:28<00:00, 13.51it/s, loss=0.353]\n"
          ]
        },
        {
          "output_type": "stream",
          "name": "stdout",
          "text": [
            "Validation Accuracy after Epoch 18: 86.32%\n"
          ]
        },
        {
          "output_type": "stream",
          "name": "stderr",
          "text": [
            "Epoch 19: 100%|██████████| 391/391 [00:29<00:00, 13.46it/s, loss=0.348]\n"
          ]
        },
        {
          "output_type": "stream",
          "name": "stdout",
          "text": [
            "Validation Accuracy after Epoch 19: 85.01%\n"
          ]
        },
        {
          "output_type": "stream",
          "name": "stderr",
          "text": [
            "Epoch 20: 100%|██████████| 391/391 [00:30<00:00, 12.74it/s, loss=0.334]\n"
          ]
        },
        {
          "output_type": "stream",
          "name": "stdout",
          "text": [
            "Validation Accuracy after Epoch 20: 84.69%\n"
          ]
        },
        {
          "output_type": "stream",
          "name": "stderr",
          "text": [
            "Epoch 21: 100%|██████████| 391/391 [00:29<00:00, 13.41it/s, loss=0.328]\n"
          ]
        },
        {
          "output_type": "stream",
          "name": "stdout",
          "text": [
            "Validation Accuracy after Epoch 21: 86.42%\n"
          ]
        },
        {
          "output_type": "stream",
          "name": "stderr",
          "text": [
            "Epoch 22: 100%|██████████| 391/391 [00:29<00:00, 13.34it/s, loss=0.314]\n"
          ]
        },
        {
          "output_type": "stream",
          "name": "stdout",
          "text": [
            "Validation Accuracy after Epoch 22: 85.32%\n"
          ]
        },
        {
          "output_type": "stream",
          "name": "stderr",
          "text": [
            "Epoch 23: 100%|██████████| 391/391 [00:29<00:00, 13.42it/s, loss=0.308]\n"
          ]
        },
        {
          "output_type": "stream",
          "name": "stdout",
          "text": [
            "Validation Accuracy after Epoch 23: 86.18%\n"
          ]
        },
        {
          "output_type": "stream",
          "name": "stderr",
          "text": [
            "Epoch 24: 100%|██████████| 391/391 [00:29<00:00, 13.33it/s, loss=0.297]\n"
          ]
        },
        {
          "output_type": "stream",
          "name": "stdout",
          "text": [
            "Validation Accuracy after Epoch 24: 85.45%\n"
          ]
        },
        {
          "output_type": "stream",
          "name": "stderr",
          "text": [
            "Epoch 25: 100%|██████████| 391/391 [00:29<00:00, 13.44it/s, loss=0.281]\n"
          ]
        },
        {
          "output_type": "stream",
          "name": "stdout",
          "text": [
            "Validation Accuracy after Epoch 25: 86.41%\n"
          ]
        },
        {
          "output_type": "stream",
          "name": "stderr",
          "text": [
            "Epoch 26: 100%|██████████| 391/391 [00:29<00:00, 13.25it/s, loss=0.267]\n"
          ]
        },
        {
          "output_type": "stream",
          "name": "stdout",
          "text": [
            "Validation Accuracy after Epoch 26: 87.28%\n"
          ]
        },
        {
          "output_type": "stream",
          "name": "stderr",
          "text": [
            "Epoch 27: 100%|██████████| 391/391 [00:29<00:00, 13.38it/s, loss=0.26]\n"
          ]
        },
        {
          "output_type": "stream",
          "name": "stdout",
          "text": [
            "Validation Accuracy after Epoch 27: 86.97%\n"
          ]
        },
        {
          "output_type": "stream",
          "name": "stderr",
          "text": [
            "Epoch 28: 100%|██████████| 391/391 [00:29<00:00, 13.37it/s, loss=0.252]\n"
          ]
        },
        {
          "output_type": "stream",
          "name": "stdout",
          "text": [
            "Validation Accuracy after Epoch 28: 87.18%\n"
          ]
        },
        {
          "output_type": "stream",
          "name": "stderr",
          "text": [
            "Epoch 29: 100%|██████████| 391/391 [00:30<00:00, 12.92it/s, loss=0.238]\n"
          ]
        },
        {
          "output_type": "stream",
          "name": "stdout",
          "text": [
            "Validation Accuracy after Epoch 29: 88.35%\n"
          ]
        },
        {
          "output_type": "stream",
          "name": "stderr",
          "text": [
            "Epoch 30: 100%|██████████| 391/391 [00:29<00:00, 13.06it/s, loss=0.229]\n"
          ]
        },
        {
          "output_type": "stream",
          "name": "stdout",
          "text": [
            "Validation Accuracy after Epoch 30: 88.16%\n"
          ]
        },
        {
          "output_type": "stream",
          "name": "stderr",
          "text": [
            "Epoch 31: 100%|██████████| 391/391 [00:28<00:00, 13.56it/s, loss=0.219]\n"
          ]
        },
        {
          "output_type": "stream",
          "name": "stdout",
          "text": [
            "Validation Accuracy after Epoch 31: 88.56%\n"
          ]
        },
        {
          "output_type": "stream",
          "name": "stderr",
          "text": [
            "Epoch 32: 100%|██████████| 391/391 [00:29<00:00, 13.20it/s, loss=0.2]\n"
          ]
        },
        {
          "output_type": "stream",
          "name": "stdout",
          "text": [
            "Validation Accuracy after Epoch 32: 89.34%\n"
          ]
        },
        {
          "output_type": "stream",
          "name": "stderr",
          "text": [
            "Epoch 33: 100%|██████████| 391/391 [00:29<00:00, 13.17it/s, loss=0.185]\n"
          ]
        },
        {
          "output_type": "stream",
          "name": "stdout",
          "text": [
            "Validation Accuracy after Epoch 33: 89.43%\n"
          ]
        },
        {
          "output_type": "stream",
          "name": "stderr",
          "text": [
            "Epoch 34: 100%|██████████| 391/391 [00:29<00:00, 13.33it/s, loss=0.174]\n"
          ]
        },
        {
          "output_type": "stream",
          "name": "stdout",
          "text": [
            "Validation Accuracy after Epoch 34: 89.58%\n"
          ]
        },
        {
          "output_type": "stream",
          "name": "stderr",
          "text": [
            "Epoch 35: 100%|██████████| 391/391 [00:29<00:00, 13.35it/s, loss=0.161]\n"
          ]
        },
        {
          "output_type": "stream",
          "name": "stdout",
          "text": [
            "Validation Accuracy after Epoch 35: 89.71%\n"
          ]
        },
        {
          "output_type": "stream",
          "name": "stderr",
          "text": [
            "Epoch 36: 100%|██████████| 391/391 [00:29<00:00, 13.41it/s, loss=0.149]\n"
          ]
        },
        {
          "output_type": "stream",
          "name": "stdout",
          "text": [
            "Validation Accuracy after Epoch 36: 90.16%\n"
          ]
        },
        {
          "output_type": "stream",
          "name": "stderr",
          "text": [
            "Epoch 37: 100%|██████████| 391/391 [00:29<00:00, 13.44it/s, loss=0.134]\n"
          ]
        },
        {
          "output_type": "stream",
          "name": "stdout",
          "text": [
            "Validation Accuracy after Epoch 37: 89.96%\n"
          ]
        },
        {
          "output_type": "stream",
          "name": "stderr",
          "text": [
            "Epoch 38: 100%|██████████| 391/391 [00:29<00:00, 13.42it/s, loss=0.126]\n"
          ]
        },
        {
          "output_type": "stream",
          "name": "stdout",
          "text": [
            "Validation Accuracy after Epoch 38: 90.49%\n"
          ]
        },
        {
          "output_type": "stream",
          "name": "stderr",
          "text": [
            "Epoch 39: 100%|██████████| 391/391 [00:29<00:00, 13.39it/s, loss=0.11]\n"
          ]
        },
        {
          "output_type": "stream",
          "name": "stdout",
          "text": [
            "Validation Accuracy after Epoch 39: 91.05%\n"
          ]
        },
        {
          "output_type": "stream",
          "name": "stderr",
          "text": [
            "Epoch 40: 100%|██████████| 391/391 [00:29<00:00, 13.28it/s, loss=0.1]\n"
          ]
        },
        {
          "output_type": "stream",
          "name": "stdout",
          "text": [
            "Validation Accuracy after Epoch 40: 91.02%\n"
          ]
        },
        {
          "output_type": "stream",
          "name": "stderr",
          "text": [
            "Epoch 41: 100%|██████████| 391/391 [00:28<00:00, 13.51it/s, loss=0.088]\n"
          ]
        },
        {
          "output_type": "stream",
          "name": "stdout",
          "text": [
            "Validation Accuracy after Epoch 41: 91.18%\n"
          ]
        },
        {
          "output_type": "stream",
          "name": "stderr",
          "text": [
            "Epoch 42: 100%|██████████| 391/391 [00:28<00:00, 13.65it/s, loss=0.0801]\n"
          ]
        },
        {
          "output_type": "stream",
          "name": "stdout",
          "text": [
            "Validation Accuracy after Epoch 42: 91.41%\n"
          ]
        },
        {
          "output_type": "stream",
          "name": "stderr",
          "text": [
            "Epoch 43: 100%|██████████| 391/391 [00:29<00:00, 13.44it/s, loss=0.0697]\n"
          ]
        },
        {
          "output_type": "stream",
          "name": "stdout",
          "text": [
            "Validation Accuracy after Epoch 43: 91.77%\n"
          ]
        },
        {
          "output_type": "stream",
          "name": "stderr",
          "text": [
            "Epoch 44: 100%|██████████| 391/391 [00:28<00:00, 13.51it/s, loss=0.0616]\n"
          ]
        },
        {
          "output_type": "stream",
          "name": "stdout",
          "text": [
            "Validation Accuracy after Epoch 44: 91.73%\n"
          ]
        },
        {
          "output_type": "stream",
          "name": "stderr",
          "text": [
            "Epoch 45: 100%|██████████| 391/391 [00:28<00:00, 13.58it/s, loss=0.0571]\n"
          ]
        },
        {
          "output_type": "stream",
          "name": "stdout",
          "text": [
            "Validation Accuracy after Epoch 45: 92.00%\n"
          ]
        },
        {
          "output_type": "stream",
          "name": "stderr",
          "text": [
            "Epoch 46: 100%|██████████| 391/391 [00:28<00:00, 13.60it/s, loss=0.0521]\n"
          ]
        },
        {
          "output_type": "stream",
          "name": "stdout",
          "text": [
            "Validation Accuracy after Epoch 46: 92.00%\n"
          ]
        },
        {
          "output_type": "stream",
          "name": "stderr",
          "text": [
            "Epoch 47: 100%|██████████| 391/391 [00:28<00:00, 13.56it/s, loss=0.0487]\n"
          ]
        },
        {
          "output_type": "stream",
          "name": "stdout",
          "text": [
            "Validation Accuracy after Epoch 47: 91.96%\n"
          ]
        },
        {
          "output_type": "stream",
          "name": "stderr",
          "text": [
            "Epoch 48: 100%|██████████| 391/391 [00:29<00:00, 13.07it/s, loss=0.0469]\n"
          ]
        },
        {
          "output_type": "stream",
          "name": "stdout",
          "text": [
            "Validation Accuracy after Epoch 48: 91.99%\n"
          ]
        },
        {
          "output_type": "stream",
          "name": "stderr",
          "text": [
            "Epoch 49: 100%|██████████| 391/391 [00:29<00:00, 13.04it/s, loss=0.0441]\n"
          ]
        },
        {
          "output_type": "stream",
          "name": "stdout",
          "text": [
            "Validation Accuracy after Epoch 49: 91.89%\n"
          ]
        },
        {
          "output_type": "stream",
          "name": "stderr",
          "text": [
            "Epoch 50: 100%|██████████| 391/391 [00:28<00:00, 13.56it/s, loss=0.045]\n"
          ]
        },
        {
          "output_type": "stream",
          "name": "stdout",
          "text": [
            "Validation Accuracy after Epoch 50: 91.90%\n",
            "Model training complete. Saved as 'cifar10_light_model.pth'\n"
          ]
        }
      ]
    },
    {
      "cell_type": "code",
      "source": [
        "from fvcore.nn import FlopCountAnalysis\n",
        "model = CIFAR10LightModel()\n",
        "inputs = torch.randn(1, 3, 32, 32)\n",
        "flops = FlopCountAnalysis(model, inputs)\n",
        "print(f\"FLOPs: {flops.total() / 1e6:.2f}M\")"
      ],
      "metadata": {
        "colab": {
          "base_uri": "https://localhost:8080/"
        },
        "id": "3k_K5rXOvfgB",
        "outputId": "95a76762-1253-4e19-849d-b8aae3ce1491"
      },
      "execution_count": 7,
      "outputs": [
        {
          "output_type": "stream",
          "name": "stderr",
          "text": [
            "WARNING:fvcore.nn.jit_analysis:Unsupported operator aten::add_ encountered 14 time(s)\n",
            "WARNING:fvcore.nn.jit_analysis:Unsupported operator aten::gelu encountered 14 time(s)\n"
          ]
        },
        {
          "output_type": "stream",
          "name": "stdout",
          "text": [
            "FLOPs: 96.27M\n"
          ]
        }
      ]
    },
    {
      "cell_type": "code",
      "source": [
        "torch.save(model.state_dict(), \"cifar10_model.pth\")\n",
        "import os\n",
        "print(f\"Model Size: {os.path.getsize('cifar10_model.pth') / 1e6:.2f} MB\")\n"
      ],
      "metadata": {
        "colab": {
          "base_uri": "https://localhost:8080/"
        },
        "id": "Z07U8-DxwA6G",
        "outputId": "3d69cbf2-ac89-46c5-93cf-bbc2ef84c93f"
      },
      "execution_count": 8,
      "outputs": [
        {
          "output_type": "stream",
          "name": "stdout",
          "text": [
            "Model Size: 2.21 MB\n"
          ]
        }
      ]
    },
    {
      "cell_type": "code",
      "source": [
        "model = CIFAR10LightModel()  # Initialize your model\n",
        "\n",
        "total_params = sum(p.numel() for p in model.parameters() if p.requires_grad)\n",
        "print(f\"Total Trainable Parameters: {total_params}\")\n"
      ],
      "metadata": {
        "colab": {
          "base_uri": "https://localhost:8080/"
        },
        "id": "0LCWRb7awU7A",
        "outputId": "5a6efaf0-1542-4cbc-ab8a-3261f0858c56"
      },
      "execution_count": 10,
      "outputs": [
        {
          "output_type": "stream",
          "name": "stdout",
          "text": [
            "Total Trainable Parameters: 537994\n"
          ]
        }
      ]
    },
    {
      "cell_type": "code",
      "source": [
        "pip install torchsummary\n"
      ],
      "metadata": {
        "colab": {
          "base_uri": "https://localhost:8080/"
        },
        "id": "-5SnFsC7wRlk",
        "outputId": "9df31a36-6693-4bd6-ef79-ca3429cdfbe8"
      },
      "execution_count": 9,
      "outputs": [
        {
          "output_type": "stream",
          "name": "stdout",
          "text": [
            "Requirement already satisfied: torchsummary in /usr/local/lib/python3.10/dist-packages (1.5.1)\n"
          ]
        }
      ]
    },
    {
      "cell_type": "code",
      "source": [
        "!pip install fvcore"
      ],
      "metadata": {
        "colab": {
          "base_uri": "https://localhost:8080/"
        },
        "id": "dLrRjFp4vuHk",
        "outputId": "720c319d-3cc1-41f2-b14b-f9456374faea"
      },
      "execution_count": 6,
      "outputs": [
        {
          "output_type": "stream",
          "name": "stdout",
          "text": [
            "Collecting fvcore\n",
            "  Downloading fvcore-0.1.5.post20221221.tar.gz (50 kB)\n",
            "\u001b[2K     \u001b[90m━━━━━━━━━━━━━━━━━━━━━━━━━━━━━━━━━━━━━━━━\u001b[0m \u001b[32m50.2/50.2 kB\u001b[0m \u001b[31m4.9 MB/s\u001b[0m eta \u001b[36m0:00:00\u001b[0m\n",
            "\u001b[?25h  Preparing metadata (setup.py) ... \u001b[?25l\u001b[?25hdone\n",
            "Requirement already satisfied: numpy in /usr/local/lib/python3.10/dist-packages (from fvcore) (1.26.4)\n",
            "Collecting yacs>=0.1.6 (from fvcore)\n",
            "  Downloading yacs-0.1.8-py3-none-any.whl.metadata (639 bytes)\n",
            "Requirement already satisfied: pyyaml>=5.1 in /usr/local/lib/python3.10/dist-packages (from fvcore) (6.0.2)\n",
            "Requirement already satisfied: tqdm in /usr/local/lib/python3.10/dist-packages (from fvcore) (4.66.6)\n",
            "Requirement already satisfied: termcolor>=1.1 in /usr/local/lib/python3.10/dist-packages (from fvcore) (2.5.0)\n",
            "Requirement already satisfied: Pillow in /usr/local/lib/python3.10/dist-packages (from fvcore) (11.0.0)\n",
            "Requirement already satisfied: tabulate in /usr/local/lib/python3.10/dist-packages (from fvcore) (0.9.0)\n",
            "Collecting iopath>=0.1.7 (from fvcore)\n",
            "  Downloading iopath-0.1.10.tar.gz (42 kB)\n",
            "\u001b[2K     \u001b[90m━━━━━━━━━━━━━━━━━━━━━━━━━━━━━━━━━━━━━━━━\u001b[0m \u001b[32m42.2/42.2 kB\u001b[0m \u001b[31m3.8 MB/s\u001b[0m eta \u001b[36m0:00:00\u001b[0m\n",
            "\u001b[?25h  Preparing metadata (setup.py) ... \u001b[?25l\u001b[?25hdone\n",
            "Requirement already satisfied: typing_extensions in /usr/local/lib/python3.10/dist-packages (from iopath>=0.1.7->fvcore) (4.12.2)\n",
            "Collecting portalocker (from iopath>=0.1.7->fvcore)\n",
            "  Downloading portalocker-3.0.0-py3-none-any.whl.metadata (8.5 kB)\n",
            "Downloading yacs-0.1.8-py3-none-any.whl (14 kB)\n",
            "Downloading portalocker-3.0.0-py3-none-any.whl (19 kB)\n",
            "Building wheels for collected packages: fvcore, iopath\n",
            "  Building wheel for fvcore (setup.py) ... \u001b[?25l\u001b[?25hdone\n",
            "  Created wheel for fvcore: filename=fvcore-0.1.5.post20221221-py3-none-any.whl size=61396 sha256=f22ff1207e90fccef377419112f8adb6f097faea8a855d92d8f1473847fa8768\n",
            "  Stored in directory: /root/.cache/pip/wheels/01/c0/af/77c1cf53a1be9e42a52b48e5af2169d40ec2e89f7362489dd0\n",
            "  Building wheel for iopath (setup.py) ... \u001b[?25l\u001b[?25hdone\n",
            "  Created wheel for iopath: filename=iopath-0.1.10-py3-none-any.whl size=31528 sha256=46221bfe925a670162ba2ee871abecd7f1061e513a0805fd46e84f16827ab128\n",
            "  Stored in directory: /root/.cache/pip/wheels/9a/a3/b6/ac0fcd1b4ed5cfeb3db92e6a0e476cfd48ed0df92b91080c1d\n",
            "Successfully built fvcore iopath\n",
            "Installing collected packages: yacs, portalocker, iopath, fvcore\n",
            "Successfully installed fvcore-0.1.5.post20221221 iopath-0.1.10 portalocker-3.0.0 yacs-0.1.8\n"
          ]
        }
      ]
    }
  ]
}